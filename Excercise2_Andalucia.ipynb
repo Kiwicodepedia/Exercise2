{
  "nbformat": 4,
  "nbformat_minor": 0,
  "metadata": {
    "colab": {
      "provenance": [],
      "authorship_tag": "ABX9TyMTWbw46BGxessTKXWcz+b6",
      "include_colab_link": true
    },
    "kernelspec": {
      "name": "python3",
      "display_name": "Python 3"
    },
    "language_info": {
      "name": "python"
    }
  },
  "cells": [
    {
      "cell_type": "markdown",
      "metadata": {
        "id": "view-in-github",
        "colab_type": "text"
      },
      "source": [
        "<a href=\"https://colab.research.google.com/github/Kiwicodepedia/Exercise2/blob/main/Excercise2_Andalucia.ipynb\" target=\"_parent\"><img src=\"https://colab.research.google.com/assets/colab-badge.svg\" alt=\"Open In Colab\"/></a>"
      ]
    },
    {
      "cell_type": "code",
      "source": [
        "import torch\n",
        "import torch.nn.functional as F\n",
        "import matplotlib.pyplot as plt # for making figures\n",
        "%matplotlib inline"
      ],
      "metadata": {
        "id": "sl0o9gPdNt_q"
      },
      "execution_count": null,
      "outputs": []
    },
    {
      "cell_type": "code",
      "execution_count": null,
      "metadata": {
        "colab": {
          "base_uri": "https://localhost:8080/",
          "height": 110
        },
        "id": "DaiEtb8bNgYq",
        "outputId": "ee3bba72-38b0-4560-ff4d-87fad94dc04e"
      },
      "outputs": [
        {
          "output_type": "display_data",
          "data": {
            "text/plain": [
              "<IPython.core.display.HTML object>"
            ],
            "text/html": [
              "\n",
              "     <input type=\"file\" id=\"files-1690a224-8145-4bbc-a263-ff679c55ae65\" name=\"files[]\" multiple disabled\n",
              "        style=\"border:none\" />\n",
              "     <output id=\"result-1690a224-8145-4bbc-a263-ff679c55ae65\">\n",
              "      Upload widget is only available when the cell has been executed in the\n",
              "      current browser session. Please rerun this cell to enable.\n",
              "      </output>\n",
              "      <script>// Copyright 2017 Google LLC\n",
              "//\n",
              "// Licensed under the Apache License, Version 2.0 (the \"License\");\n",
              "// you may not use this file except in compliance with the License.\n",
              "// You may obtain a copy of the License at\n",
              "//\n",
              "//      http://www.apache.org/licenses/LICENSE-2.0\n",
              "//\n",
              "// Unless required by applicable law or agreed to in writing, software\n",
              "// distributed under the License is distributed on an \"AS IS\" BASIS,\n",
              "// WITHOUT WARRANTIES OR CONDITIONS OF ANY KIND, either express or implied.\n",
              "// See the License for the specific language governing permissions and\n",
              "// limitations under the License.\n",
              "\n",
              "/**\n",
              " * @fileoverview Helpers for google.colab Python module.\n",
              " */\n",
              "(function(scope) {\n",
              "function span(text, styleAttributes = {}) {\n",
              "  const element = document.createElement('span');\n",
              "  element.textContent = text;\n",
              "  for (const key of Object.keys(styleAttributes)) {\n",
              "    element.style[key] = styleAttributes[key];\n",
              "  }\n",
              "  return element;\n",
              "}\n",
              "\n",
              "// Max number of bytes which will be uploaded at a time.\n",
              "const MAX_PAYLOAD_SIZE = 100 * 1024;\n",
              "\n",
              "function _uploadFiles(inputId, outputId) {\n",
              "  const steps = uploadFilesStep(inputId, outputId);\n",
              "  const outputElement = document.getElementById(outputId);\n",
              "  // Cache steps on the outputElement to make it available for the next call\n",
              "  // to uploadFilesContinue from Python.\n",
              "  outputElement.steps = steps;\n",
              "\n",
              "  return _uploadFilesContinue(outputId);\n",
              "}\n",
              "\n",
              "// This is roughly an async generator (not supported in the browser yet),\n",
              "// where there are multiple asynchronous steps and the Python side is going\n",
              "// to poll for completion of each step.\n",
              "// This uses a Promise to block the python side on completion of each step,\n",
              "// then passes the result of the previous step as the input to the next step.\n",
              "function _uploadFilesContinue(outputId) {\n",
              "  const outputElement = document.getElementById(outputId);\n",
              "  const steps = outputElement.steps;\n",
              "\n",
              "  const next = steps.next(outputElement.lastPromiseValue);\n",
              "  return Promise.resolve(next.value.promise).then((value) => {\n",
              "    // Cache the last promise value to make it available to the next\n",
              "    // step of the generator.\n",
              "    outputElement.lastPromiseValue = value;\n",
              "    return next.value.response;\n",
              "  });\n",
              "}\n",
              "\n",
              "/**\n",
              " * Generator function which is called between each async step of the upload\n",
              " * process.\n",
              " * @param {string} inputId Element ID of the input file picker element.\n",
              " * @param {string} outputId Element ID of the output display.\n",
              " * @return {!Iterable<!Object>} Iterable of next steps.\n",
              " */\n",
              "function* uploadFilesStep(inputId, outputId) {\n",
              "  const inputElement = document.getElementById(inputId);\n",
              "  inputElement.disabled = false;\n",
              "\n",
              "  const outputElement = document.getElementById(outputId);\n",
              "  outputElement.innerHTML = '';\n",
              "\n",
              "  const pickedPromise = new Promise((resolve) => {\n",
              "    inputElement.addEventListener('change', (e) => {\n",
              "      resolve(e.target.files);\n",
              "    });\n",
              "  });\n",
              "\n",
              "  const cancel = document.createElement('button');\n",
              "  inputElement.parentElement.appendChild(cancel);\n",
              "  cancel.textContent = 'Cancel upload';\n",
              "  const cancelPromise = new Promise((resolve) => {\n",
              "    cancel.onclick = () => {\n",
              "      resolve(null);\n",
              "    };\n",
              "  });\n",
              "\n",
              "  // Wait for the user to pick the files.\n",
              "  const files = yield {\n",
              "    promise: Promise.race([pickedPromise, cancelPromise]),\n",
              "    response: {\n",
              "      action: 'starting',\n",
              "    }\n",
              "  };\n",
              "\n",
              "  cancel.remove();\n",
              "\n",
              "  // Disable the input element since further picks are not allowed.\n",
              "  inputElement.disabled = true;\n",
              "\n",
              "  if (!files) {\n",
              "    return {\n",
              "      response: {\n",
              "        action: 'complete',\n",
              "      }\n",
              "    };\n",
              "  }\n",
              "\n",
              "  for (const file of files) {\n",
              "    const li = document.createElement('li');\n",
              "    li.append(span(file.name, {fontWeight: 'bold'}));\n",
              "    li.append(span(\n",
              "        `(${file.type || 'n/a'}) - ${file.size} bytes, ` +\n",
              "        `last modified: ${\n",
              "            file.lastModifiedDate ? file.lastModifiedDate.toLocaleDateString() :\n",
              "                                    'n/a'} - `));\n",
              "    const percent = span('0% done');\n",
              "    li.appendChild(percent);\n",
              "\n",
              "    outputElement.appendChild(li);\n",
              "\n",
              "    const fileDataPromise = new Promise((resolve) => {\n",
              "      const reader = new FileReader();\n",
              "      reader.onload = (e) => {\n",
              "        resolve(e.target.result);\n",
              "      };\n",
              "      reader.readAsArrayBuffer(file);\n",
              "    });\n",
              "    // Wait for the data to be ready.\n",
              "    let fileData = yield {\n",
              "      promise: fileDataPromise,\n",
              "      response: {\n",
              "        action: 'continue',\n",
              "      }\n",
              "    };\n",
              "\n",
              "    // Use a chunked sending to avoid message size limits. See b/62115660.\n",
              "    let position = 0;\n",
              "    do {\n",
              "      const length = Math.min(fileData.byteLength - position, MAX_PAYLOAD_SIZE);\n",
              "      const chunk = new Uint8Array(fileData, position, length);\n",
              "      position += length;\n",
              "\n",
              "      const base64 = btoa(String.fromCharCode.apply(null, chunk));\n",
              "      yield {\n",
              "        response: {\n",
              "          action: 'append',\n",
              "          file: file.name,\n",
              "          data: base64,\n",
              "        },\n",
              "      };\n",
              "\n",
              "      let percentDone = fileData.byteLength === 0 ?\n",
              "          100 :\n",
              "          Math.round((position / fileData.byteLength) * 100);\n",
              "      percent.textContent = `${percentDone}% done`;\n",
              "\n",
              "    } while (position < fileData.byteLength);\n",
              "  }\n",
              "\n",
              "  // All done.\n",
              "  yield {\n",
              "    response: {\n",
              "      action: 'complete',\n",
              "    }\n",
              "  };\n",
              "}\n",
              "\n",
              "scope.google = scope.google || {};\n",
              "scope.google.colab = scope.google.colab || {};\n",
              "scope.google.colab._files = {\n",
              "  _uploadFiles,\n",
              "  _uploadFilesContinue,\n",
              "};\n",
              "})(self);\n",
              "</script> "
            ]
          },
          "metadata": {}
        },
        {
          "output_type": "stream",
          "name": "stdout",
          "text": [
            "Saving Municipios andalucia.txt to Municipios andalucia.txt\n",
            "['aguadulce', 'alanis', 'albaida del aljarafe', 'alcala de guadaira', 'alcala del rio', 'alcolea del rio', 'la algaba', 'algamitas', 'almaden de la plata', 'almensilla', 'arahal', 'aznalcazar', 'aznalcollar', 'badolatosa', 'benacazon', 'bollullos de la mitacion', 'bormujos', 'brenes', 'burguillos', 'las cabezas de san juan', 'camas', 'la campana', 'cantillana', 'canada rosal', 'carmona', 'carrion de los cespedes', 'casariche', 'castilblanco de los arroyos', 'castilleja de guzman', 'castilleja de la cuesta', 'castilleja del campo', 'el castillo de las guardas', 'cazalla de la sierra', 'constantina', 'coria del rio', 'coripe', 'el coronil', 'los corrales', 'el cuervo de sevilla', 'dos hermanas', 'ecija', 'espartinas', 'estepa', 'fuentes de andalucia', 'el garrobo', 'gelves', 'gerena', 'gilena', 'gines', 'guadalcanal', 'guillena', 'herrera', 'huevar del aljarafe', 'isla mayor', 'la lantejuela', 'lebrija', 'lora de estepa', 'lora del rio', 'la luisiana', 'el madrono', 'mairena del alcor', 'mairena del aljarafe', 'marchena', 'marinaleda', 'martin de la jara', 'los molares', 'montellano', 'moron de la frontera', 'las navas de la concepcion', 'olivares', 'osuna', 'los palacios y villafranca', 'palomares del rio', 'paradas', 'pedrera', 'el pedroso', 'penaflor', 'pilas', 'pruna', 'puebla de cazalla', 'la puebla de los infantes', 'puebla del rio', 'el real de la jara', 'la rinconada', 'la roda de andalucia', 'el ronquillo', 'el rubio', 'salteras', 'san juan de aznalfarache', 'san nicolas del puerto', 'sanlucar la mayor', 'santiponce', 'el saucejo', 'sevilla', 'tocina', 'tomares', 'umbrete', 'utrera', 'valencina de la concepcion', 'villamanrique de la condesa', 'villanueva de san juan', 'villanueva del ariscal', 'villanueva del rio y minas', 'villaverde del rio', 'el viso del alcor', 'abla', 'abrucena', 'adra', 'albanchez', 'alboloduy', 'albox', 'alcolea', 'alcontar', 'alcudia de monteagud', 'alhabia', 'alhama de almeria', 'alicun', 'almeria', 'almocita', 'alsodux', 'antas', 'arboleas', 'armuna de almanzora', 'bacares', 'bayarcal', 'bayarque', 'bedar', 'beires', 'benahadux', 'benitagla', 'benizalon', 'bentarique', 'berja', 'canjayar', 'cantoria', 'carboneras', 'castro de filabres', 'chercos', 'chirivel', 'cobdar', 'cuevas del almanzora', 'dalias', 'el ejido', 'enix', 'felix', 'fines', 'finana', 'fondon', 'gador', 'los gallardos', 'garrucha', 'gergal', 'huecija', 'huercal de almeria', 'huercal-overa', 'illar', 'instincion', 'laroya', 'laujar de andarax', 'lijar', 'lubrin', 'lucainena de las torres', 'lucar', 'macael', 'maria', 'mojacar', 'la mojonera', 'nacimiento', 'nijar', 'ohanes', 'olula de castro', 'olula del rio', 'oria', 'padules', 'partaloa', 'paterna del rio', 'pechina', 'pulpi', 'purchena', 'ragol', 'rioja', 'roquetas de mar', 'santa cruz de marchena', 'santa fe de mondujar', 'senes', 'seron', 'sierro', 'somontin', 'sorbas', 'sufli', 'tabernas', 'taberno', 'tahal', 'terque', 'tijola', 'las tres villas', 'turre', 'turrillas', 'uleila del campo', 'urracal', 'velefique', 'velez-blanco', 'velez-rubio', 'vera', 'viator', 'vicar', 'zurgena', 'alcala de los gazules', 'alcala del valle', 'algar', 'algeciras', 'algodonales', 'arcos de la frontera', 'barbate', 'los barrios', 'benalup-casas viejas', 'benaocaz', 'bornos', 'el bosque', 'cadiz', 'castellar de la frontera', 'chiclana de la frontera', 'chipiona', 'conil de la frontera', 'espera', 'el gastor', 'grazalema', 'jerez de la frontera', 'jimena de la frontera', 'la linea de la concepcion', 'medina-sidonia', 'olvera', 'paterna de rivera', 'prado del rey', 'el puerto de santa maria', 'puerto real', 'puerto serrano', 'rota', 'san fernando', 'san jose del valle', 'san roque', 'sanlucar de barrameda', 'setenil de las bodegas', 'tarifa', 'torre alhaquime', 'trebujena', 'ubrique', 'vejer de la frontera', 'villaluenga del rosario', 'villamartin', 'zahara', 'adamuz', 'aguilar de la frontera', 'alcaracejos', 'almedinilla', 'almodovar del rio', 'anora', 'baena', 'belalcazar', 'belmez', 'benameji', 'los blazquez', 'bujalance', 'cabra', 'canete de las torres', 'carcabuey', 'cardena', 'la carlota', 'el carpio', 'castro del rio', 'conquista', 'cordoba', 'dona mencia', 'dos torres', 'encinas reales', 'espejo', 'espiel', 'fernan-nunez', 'fuente la lancha', 'fuente obejuna', 'fuente palmera', 'fuente-tojar', 'la granjuela', 'guadalcazar', 'el guijo', 'hinojosa del duque', 'hornachuelos', 'iznajar', 'lucena', 'luque', 'montalban de cordoba', 'montemayor', 'montilla', 'montoro', 'monturque', 'moriles', 'nueva carteya', 'obejo', 'palenciana', 'palma del rio', 'pedro abad', 'pedroche', 'penarroya-pueblonuevo', 'posadas', 'pozoblanco', 'priego de cordoba', 'puente genil', 'la rambla', 'rute', 'san sebastian de los ballesteros', 'santa eufemia', 'santaella', 'torrecampo', 'valenzuela', 'valsequillo', 'la victoria', 'villa del rio', 'villafranca de cordoba', 'villaharta', 'villanueva de cordoba', 'villanueva del duque', 'villanueva del rey', 'villaralto', 'villaviciosa de cordoba', 'el viso', 'zuheros', 'agron', 'alamedilla', 'albolote', 'albondon', 'albunan', 'albunol', 'albunuelas', 'aldeire', 'alfacar', 'algarinejo', 'alhama de granada', 'alhendin', 'alicun de ortega', 'almegijar', 'almunecar', 'alpujarra de la sierra', 'alquife', 'arenas del rey', 'armilla', 'atarfe', 'baza', 'beas de granada', 'beas de guadix', 'benalua', 'benalua de las villas', 'benamaurel', 'berchules', 'bubion', 'busquistar', 'cacin', 'cadiar', 'cajar', 'la calahorra', 'calicasas', 'campotejar', 'caniles', 'canar', 'capileira', 'carataunas', 'castaras', 'castillejar', 'castril', 'cenes de la vega', 'chauchina', 'chimeneas', 'churriana de la vega', 'cijuela', 'cogollos de guadix', 'cogollos de la vega', 'colomera', 'cortes de baza', 'cortes y graena', 'cuevas del campo', 'cullar', 'cullar vega', 'darro', 'dehesas de guadix', 'deifontes', 'diezma', 'dilar', 'dolar', 'dudar', 'durcal', 'escuzar', 'ferreira', 'fonelas', 'freila', 'fuente vaqueros', 'las gabias', 'galera', 'gobernador', 'gojar', 'gor', 'gorafe', 'granada', 'guadahortuna', 'guadix', 'los guajares', 'gualchos', 'guejar sierra', 'guevejar', 'huelago', 'hueneja', 'huescar', 'huetor de santillan', 'huetor tajar', 'huetor vega', 'illora', 'itrabo', 'iznalloz', 'jayena', 'jerez del marquesado', 'jete', 'jun', 'juviles', 'lachar', 'lanjaron', 'lanteira', 'lecrin', 'lentegi', 'lobras', 'loja', 'lugros', 'lujar', 'la malaha', 'maracena', 'marchal', 'moclin', 'molvizar', 'monachil', 'montefrio', 'montejicar', 'montillana', 'moraleda de zafayona', 'morelabor', 'motril', 'murtas', 'nevada', 'niguelas', 'nivar', 'ogijares', 'orce', 'orgiva', 'otivar', 'otura', 'padul', 'pampaneira', 'pedro martinez', 'peligros', 'la peza', 'el pinar', 'pinos genil', 'pinos puente', 'pinar', 'policar', 'polopos', 'portugos', 'puebla de don fadrique', 'pulianas', 'purullena', 'quentar', 'rubite', 'salar', 'salobrena', 'santa cruz del comercio', 'santa fe', 'soportujar', 'sorvilan', 'la taha', 'torre-cardela', 'torvizcon', 'trevelez', 'turon', 'ugijar', 'el valle', 'valle del zalabi', 'valor', 'vegas del genil', 'velez de benaudalla', 'ventas de huelma', 'villamena', 'villanueva de las torres', 'villanueva mesia', 'viznar', 'zafarraya', 'zagra', 'la zubia', 'zujar', 'alajar', 'aljaraque', 'el almendro', 'almonaster la real', 'almonte', 'alosno', 'aracena', 'aroche', 'arroyomolinos de leon', 'ayamonte', 'beas', 'berrocal', 'bollullos par del condado', 'bonares', 'cabezas rubias', 'cala', 'calanas', 'el campillo', 'campofrio', 'canaveral de leon', 'cartaya', 'castano del robledo', 'el cerro de andevalo', 'chucena', 'corteconcepcion', 'cortegana', 'cortelazor', 'cumbres de enmedio', 'cumbres de san bartolome', 'cumbres mayores', 'encinasola', 'escacena del campo', 'fuenteheridos', 'galaroza', 'gibraleon', 'la granada de rio-tinto', 'el granado', 'higuera de la sierra', 'hinojales', 'hinojos', 'huelva', 'isla cristina', 'jabugo', 'lepe', 'linares de la sierra', 'lucena del puerto', 'manzanilla', 'los marines', 'minas de riotinto', 'moguer', 'la nava', 'nerva', 'niebla', 'la palma del condado', 'palos de la frontera', 'paterna del campo', 'paymogo', 'puebla de guzman', 'puerto moral', 'punta umbria', 'rociana del condado', 'rosal de la frontera', 'san bartolome de la torre', 'san juan del puerto', 'san silvestre de guzman', 'sanlucar de guadiana', 'santa ana la real', 'santa barbara de casa', 'santa olalla del cala', 'trigueros', 'valdelarco', 'valverde del camino', 'villablanca', 'villalba del alcor', 'villanueva de las cruces', 'villanueva de los castillejos', 'villarrasa', 'zalamea la real', 'zufre', 'albanchez de magina', 'alcala la real', 'alcaudete', 'aldeaquemada', 'andujar', 'arjona', 'arjonilla', 'arquillos', 'arroyo del ojanco', 'baeza', 'bailen', 'banos de la encina', 'beas de segura', 'bedmar y garciez', 'begijar', 'belmez de la moraleda', 'benatae', 'cabra del santo cristo', 'cambil', 'campillo de arenas', 'canena', 'carboneros', 'carcheles', 'la carolina', 'castellar', 'castillo de locubin', 'cazalilla', 'cazorla', 'chiclana de segura', 'chilluevar', 'escanuela', 'espeluy', 'frailes', 'fuensanta de martos', 'fuerte del rey', 'genave', 'la guardia de jaen', 'guarroman', 'higuera de calatrava', 'hinojares', 'hornos', 'huelma', 'huesa', 'ibros', 'la iruela', 'iznatoraf', 'jabalquinto', 'jaen', 'jamilena', 'jimena', 'jodar', 'lahiguera', 'larva', 'linares', 'lopera', 'lupion', 'mancha real', 'marmolejo', 'martos', 'mengibar', 'montizon', 'navas de san juan', 'noalejo', 'orcera', 'peal de becerro', 'pegalajar', 'porcuna', 'pozo alcon', 'puente de genave', 'la puerta de segura', 'quesada', 'rus', 'sabiote', 'santa elena', 'santiago de calatrava', 'santiago-pontones', 'santisteban del puerto', 'santo tome', 'segura de la sierra', 'siles', 'sorihuela del guadalimar', 'torre del campo', 'torreblascopedro', 'torredonjimeno', 'torreperogil', 'torres', 'torres de albanchez', 'ubeda', 'valdepenas de jaen', 'vilches', 'villacarrillo', 'villanueva de la reina', 'villanueva del arzobispo', 'villardompardo', 'los villares', 'villarrodrigo', 'villatorres', 'alameda', 'alcaucin', 'alfarnate', 'alfarnatejo', 'algarrobo', 'algatocin', 'alhaurin de la torre', 'alhaurin el grande', 'almachar', 'almargen', 'almogia', 'alora', 'alozaina', 'alpandeire', 'antequera', 'archez', 'archidona', 'ardales', 'arenas', 'arriate', 'atajate', 'benadalid', 'benahavis', 'benalauria', 'benalmadena', 'benamargosa', 'benamocarra', 'benaojan', 'benarraba', 'el borge', 'el burgo', 'campillos', 'canillas de aceituno', 'canillas de albaida', 'canete la real', 'carratraca', 'cartajima', 'cartama', 'casabermeja', 'casarabonela', 'casares', 'coin', 'colmenar', 'comares', 'competa', 'cortes de la frontera', 'cuevas bajas', 'cuevas de san marcos', 'cuevas del becerro', 'cutar', 'estepona', 'farajan', 'frigiliana', 'fuengirola', 'fuente de piedra', 'gaucin', 'genalguacil', 'guaro', 'humilladero', 'igualeja', 'istan', 'iznate', 'jimera de libar', 'jubrique', 'juzcar', 'macharaviaya', 'malaga', 'manilva', 'marbella', 'mijas', 'moclinejo', 'mollina', 'monda', 'montejaque', 'nerja', 'ojen', 'parauta', 'periana', 'pizarra', 'pujerra', 'rincon de la victoria', 'riogordo', 'ronda', 'salares', 'sayalonga', 'sedella', 'sierra de yeguas', 'teba', 'tolox', 'torremolinos', 'torrox', 'totalan', 'valle de abdalajis', 'velez-malaga', 'villanueva de algaidas', 'villanueva de la concepcion', 'villanueva de tapia', 'villanueva del rosario', 'villanueva del trabuco', 'vinuela', 'yunquera']\n"
          ]
        }
      ],
      "source": [
        "from google.colab import files\n",
        "\n",
        "# Subir archivos desde tu computadora\n",
        "uploaded = files.upload()\n",
        "\n",
        "# Obtener el nombre del archivo subido\n",
        "file_name = list(uploaded.keys())[0]\n",
        "\n",
        "# Decodificar el contenido del archivo\n",
        "dataset = uploaded[file_name].decode(\"utf-8\")\n",
        "\n",
        "# Dividir en líneas, limpiar cada una y convertir a minúsculas\n",
        "words = [line.strip().replace(\"\\t\", \"\").lower() for line in dataset.split(\"\\n\") if line.strip()]\n",
        "\n",
        "# Guardar el archivo limpio (opcional)\n",
        "with open(\"archivo_limpio.txt\", \"w\", encoding=\"utf-8\") as file:\n",
        "    file.write(\"\\n\".join(words))\n",
        "\n",
        "# Mostrar los nombres limpios\n",
        "print(words)\n",
        "\n"
      ]
    },
    {
      "cell_type": "code",
      "source": [
        "# build the vocabulary of characters and mappings to/from integers\n",
        "chars = sorted(list(set(''.join(words))))\n",
        "stoi = {s:i+1 for i,s in enumerate(chars)}\n",
        "stoi['.'] = 0\n",
        "itos = {i:s for s,i in stoi.items()}\n",
        "print(itos)"
      ],
      "metadata": {
        "colab": {
          "base_uri": "https://localhost:8080/"
        },
        "id": "N4nPtHxOc98t",
        "outputId": "bf06573d-f437-42fb-f755-72e1a597a6c3"
      },
      "execution_count": null,
      "outputs": [
        {
          "output_type": "stream",
          "name": "stdout",
          "text": [
            "{1: ' ', 2: '-', 3: 'a', 4: 'b', 5: 'c', 6: 'd', 7: 'e', 8: 'f', 9: 'g', 10: 'h', 11: 'i', 12: 'j', 13: 'l', 14: 'm', 15: 'n', 16: 'o', 17: 'p', 18: 'q', 19: 'r', 20: 's', 21: 't', 22: 'u', 23: 'v', 24: 'x', 25: 'y', 26: 'z', 0: '.'}\n"
          ]
        }
      ]
    },
    {
      "cell_type": "code",
      "source": [
        "print(stoi)"
      ],
      "metadata": {
        "colab": {
          "base_uri": "https://localhost:8080/"
        },
        "id": "kyutGTcoCC64",
        "outputId": "8a37a882-71b2-41d6-a6dd-0dd02d1a4919"
      },
      "execution_count": null,
      "outputs": [
        {
          "output_type": "stream",
          "name": "stdout",
          "text": [
            "{' ': 1, '-': 2, 'a': 3, 'b': 4, 'c': 5, 'd': 6, 'e': 7, 'f': 8, 'g': 9, 'h': 10, 'i': 11, 'j': 12, 'l': 13, 'm': 14, 'n': 15, 'o': 16, 'p': 17, 'q': 18, 'r': 19, 's': 20, 't': 21, 'u': 22, 'v': 23, 'x': 24, 'y': 25, 'z': 26, '.': 0}\n"
          ]
        }
      ]
    },
    {
      "cell_type": "code",
      "source": [
        "# build the dataset\n",
        "block_size = 3 # context length: how many characters do we take to predict the next one?\n",
        "\n",
        "def build_dataset(words):\n",
        "  X, Y = [], []\n",
        "  for w in words:\n",
        "\n",
        "    #print(w)\n",
        "    context = [0] * block_size\n",
        "    for ch in w + '.':\n",
        "      ix = stoi[ch]\n",
        "      X.append(context)\n",
        "      Y.append(ix)\n",
        "      #print(''.join(itos[i] for i in context), '--->', itos[ix])\n",
        "      context = context[1:] + [ix] # crop and append\n",
        "\n",
        "  X = torch.tensor(X)\n",
        "  Y = torch.tensor(Y)\n",
        "  print(X.shape, Y.shape)\n",
        "  return X, Y\n",
        "\n",
        "import random\n",
        "random.seed(42)\n",
        "random.shuffle(words)\n",
        "n1 = int(0.8*len(words))\n",
        "n2 = int(0.9*len(words))\n",
        "\n",
        "Xtr, Ytr = build_dataset(words[:n1])\n",
        "Xdev, Ydev = build_dataset(words[n1:n2])\n",
        "Xte, Yte = build_dataset(words[n2:])"
      ],
      "metadata": {
        "id": "z8TX7M3c_lHj",
        "colab": {
          "base_uri": "https://localhost:8080/"
        },
        "outputId": "234516e4-dcde-4562-cc54-d1f3426831c6"
      },
      "execution_count": null,
      "outputs": [
        {
          "output_type": "stream",
          "name": "stdout",
          "text": [
            "torch.Size([7223, 3]) torch.Size([7223])\n",
            "torch.Size([905, 3]) torch.Size([905])\n",
            "torch.Size([1027, 3]) torch.Size([1027])\n"
          ]
        }
      ]
    },
    {
      "cell_type": "code",
      "source": [
        "X.shape, X.dtype, Y.shape, Y.dtype"
      ],
      "metadata": {
        "colab": {
          "base_uri": "https://localhost:8080/"
        },
        "id": "n79DNtkE_hMy",
        "outputId": "89d847df-1a40-4a8c-8bae-b0e809bf8d02"
      },
      "execution_count": null,
      "outputs": [
        {
          "output_type": "execute_result",
          "data": {
            "text/plain": [
              "(torch.Size([9155, 3]), torch.int64, torch.Size([9155]), torch.int64)"
            ]
          },
          "metadata": {},
          "execution_count": 60
        }
      ]
    },
    {
      "cell_type": "code",
      "source": [
        "C = torch.randn((27, 2))\n",
        "emb = C[X]\n",
        "emb.shape\n"
      ],
      "metadata": {
        "colab": {
          "base_uri": "https://localhost:8080/"
        },
        "id": "MWxi8SvEMLJ0",
        "outputId": "709e2664-09df-484e-bd5b-b5ab1ee8dd9c"
      },
      "execution_count": null,
      "outputs": [
        {
          "output_type": "execute_result",
          "data": {
            "text/plain": [
              "torch.Size([9155, 3, 2])"
            ]
          },
          "metadata": {},
          "execution_count": 304
        }
      ]
    },
    {
      "cell_type": "code",
      "source": [
        "W1 = torch.randn((6, 100))\n",
        "b1 = torch.randn(100)"
      ],
      "metadata": {
        "id": "C7wCg5U5b_hD"
      },
      "execution_count": null,
      "outputs": []
    },
    {
      "cell_type": "code",
      "source": [
        "h = torch.tanh(emb.view(-1, 6) @ W1 + b1)"
      ],
      "metadata": {
        "id": "j_6VVYdXekeC"
      },
      "execution_count": null,
      "outputs": []
    },
    {
      "cell_type": "code",
      "source": [
        "h.shape"
      ],
      "metadata": {
        "colab": {
          "base_uri": "https://localhost:8080/"
        },
        "id": "txXv0yWUe17j",
        "outputId": "4c35563d-bf9c-41c6-aa51-59689b7b3802"
      },
      "execution_count": null,
      "outputs": [
        {
          "output_type": "execute_result",
          "data": {
            "text/plain": [
              "torch.Size([72, 100])"
            ]
          },
          "metadata": {},
          "execution_count": 18
        }
      ]
    },
    {
      "cell_type": "code",
      "source": [
        "W2 = torch.randn((100, 27))\n",
        "b2 = torch.randn(27)"
      ],
      "metadata": {
        "id": "8-qpN9p-e2v4"
      },
      "execution_count": null,
      "outputs": []
    },
    {
      "cell_type": "code",
      "source": [
        "logits = h @ W2 + b2\n",
        "counts = logits.exp()\n",
        "prob = counts / counts.sum(1, keepdims=True)\n",
        "prob.shape"
      ],
      "metadata": {
        "colab": {
          "base_uri": "https://localhost:8080/"
        },
        "id": "gYSP90Mqf2OB",
        "outputId": "7d77f774-d622-4d65-91ce-2df436751c98"
      },
      "execution_count": null,
      "outputs": [
        {
          "output_type": "execute_result",
          "data": {
            "text/plain": [
              "torch.Size([72, 27])"
            ]
          },
          "metadata": {},
          "execution_count": 24
        }
      ]
    },
    {
      "cell_type": "code",
      "source": [],
      "metadata": {
        "colab": {
          "base_uri": "https://localhost:8080/"
        },
        "id": "CGAsTTOWf3e8",
        "outputId": "70bffd2d-c668-426c-dd33-7b154b8fc463"
      },
      "execution_count": null,
      "outputs": [
        {
          "output_type": "execute_result",
          "data": {
            "text/plain": [
              "tensor([[ -4.2060, -11.1502,  -1.9486,  ...,  -3.4667, -23.0742,  -6.7505],\n",
              "        [ -8.2857, -13.8254,  -7.0280,  ...,   3.6633, -12.4186, -10.4823],\n",
              "        [ -7.2261,  -1.1820,  -5.5838,  ...,  -5.9488,   2.9997, -10.9865],\n",
              "        ...,\n",
              "        [  0.6486,  -4.2875,  -8.3575,  ...,   5.4648,   8.0437,  -9.5538],\n",
              "        [-13.3864,  13.2507,   5.5607,  ..., -17.1327,  10.5557, -19.8027],\n",
              "        [  0.7713,  -1.0767, -13.0952,  ...,   6.0986, -13.0178,  -6.9280]])"
            ]
          },
          "metadata": {},
          "execution_count": 23
        }
      ]
    },
    {
      "cell_type": "code",
      "source": [
        "prob[71].sum()"
      ],
      "metadata": {
        "colab": {
          "base_uri": "https://localhost:8080/"
        },
        "id": "39W7gmXaf4Cr",
        "outputId": "b1d87e96-62ee-46e4-a3f5-79e4a64e1ed9"
      },
      "execution_count": null,
      "outputs": [
        {
          "output_type": "execute_result",
          "data": {
            "text/plain": [
              "tensor(1.)"
            ]
          },
          "metadata": {},
          "execution_count": 32
        }
      ]
    },
    {
      "cell_type": "code",
      "source": [
        "loss = -prob[torch.arange(72), Y].log().mean()\n",
        "loss"
      ],
      "metadata": {
        "colab": {
          "base_uri": "https://localhost:8080/"
        },
        "id": "lJcRx_IngPR1",
        "outputId": "bc51f4f0-fccb-4a36-8e22-5fea3893011b"
      },
      "execution_count": null,
      "outputs": [
        {
          "output_type": "execute_result",
          "data": {
            "text/plain": [
              "tensor(16.6430)"
            ]
          },
          "metadata": {},
          "execution_count": 34
        }
      ]
    },
    {
      "cell_type": "code",
      "source": [
        "Xtr.shape, Ytr.shape # dataset"
      ],
      "metadata": {
        "colab": {
          "base_uri": "https://localhost:8080/"
        },
        "id": "1Th12cWgk6NE",
        "outputId": "b2796017-babd-4fb1-fa5f-712bca8672fd"
      },
      "execution_count": null,
      "outputs": [
        {
          "output_type": "execute_result",
          "data": {
            "text/plain": [
              "(torch.Size([7223, 3]), torch.Size([7223]))"
            ]
          },
          "metadata": {},
          "execution_count": 64
        }
      ]
    },
    {
      "cell_type": "code",
      "source": [
        "g = torch.Generator().manual_seed(2147483647) # for reproducibility\n",
        "C = torch.randn((27, 10), generator=g)\n",
        "W1 = torch.randn((30, 200), generator=g)\n",
        "b1 = torch.randn(200, generator=g)\n",
        "W2 = torch.randn((200, 27), generator=g)\n",
        "b2 = torch.randn(27, generator=g)\n",
        "parameters = [C, W1, b1, W2, b2]"
      ],
      "metadata": {
        "id": "TJLAs-VYhmL-"
      },
      "execution_count": 317,
      "outputs": []
    },
    {
      "cell_type": "code",
      "source": [
        "sum(p.nelement() for p in parameters) # number of parameters in total"
      ],
      "metadata": {
        "colab": {
          "base_uri": "https://localhost:8080/"
        },
        "id": "0MunxORtg54M",
        "outputId": "1d69b7ae-eb6c-48cb-94a3-ba28d2b9fb77"
      },
      "execution_count": 318,
      "outputs": [
        {
          "output_type": "execute_result",
          "data": {
            "text/plain": [
              "11897"
            ]
          },
          "metadata": {},
          "execution_count": 318
        }
      ]
    },
    {
      "cell_type": "code",
      "source": [
        "for p in parameters:\n",
        "  p.requires_grad = True\n"
      ],
      "metadata": {
        "id": "Crgt2AZlkZ3G"
      },
      "execution_count": 319,
      "outputs": []
    },
    {
      "cell_type": "code",
      "source": [
        "lre = torch.linspace(-3, 0, 1000)\n",
        "lrs = 10**lre"
      ],
      "metadata": {
        "id": "f1C4kyckn_5d"
      },
      "execution_count": 320,
      "outputs": []
    },
    {
      "cell_type": "code",
      "source": [
        "lri = []\n",
        "lossi = []\n",
        "stepi = []\n",
        "\n",
        "for i in range(10000):\n",
        "\n",
        "  # minibatch construct\n",
        "  ix = torch.randint(0, Xtr.shape[0], (32,))\n",
        "\n",
        "  # forward pass\n",
        "  emb = C[Xtr[ix]] # (32, 3, 10)\n",
        "  h = torch.tanh(emb.view(-1, 30) @ W1 + b1) # (32, 200)\n",
        "  logits = h @ W2 + b2 # (32, 27)\n",
        "  loss = F.cross_entropy(logits, Ytr[ix])\n",
        "  #print(loss.item())\n",
        "\n",
        "  # backward pass\n",
        "  for p in parameters:\n",
        "    p.grad = None\n",
        "  loss.backward()\n",
        "\n",
        "  # update\n",
        "  #lr = lrs[i]\n",
        "  lr = 0.08 if i < 100000 else 0.01\n",
        "  for p in parameters:\n",
        "    p.data += -lr * p.grad\n",
        "\n",
        "  # track stats\n",
        "  #lri.append(lre[i])\n",
        "  stepi.append(i)\n",
        "  lossi.append(loss.log10().item())\n",
        "\n",
        "print(loss.item())"
      ],
      "metadata": {
        "colab": {
          "base_uri": "https://localhost:8080/"
        },
        "id": "LnXaHmCvkeQl",
        "outputId": "5285cd73-f959-4c86-9395-36c82895db1c"
      },
      "execution_count": 321,
      "outputs": [
        {
          "output_type": "stream",
          "name": "stdout",
          "text": [
            "1.4642003774642944\n"
          ]
        }
      ]
    },
    {
      "cell_type": "code",
      "source": [
        "plt.plot(stepi, lossi)"
      ],
      "metadata": {
        "colab": {
          "base_uri": "https://localhost:8080/",
          "height": 447
        },
        "id": "39BDnJ1qku8f",
        "outputId": "4f6b0124-15ac-4eec-deec-f3267c9483c3"
      },
      "execution_count": 322,
      "outputs": [
        {
          "output_type": "execute_result",
          "data": {
            "text/plain": [
              "[<matplotlib.lines.Line2D at 0x7bc82497d250>]"
            ]
          },
          "metadata": {},
          "execution_count": 322
        },
        {
          "output_type": "display_data",
          "data": {
            "text/plain": [
              "<Figure size 640x480 with 1 Axes>"
            ],
            "image/png": "[encoded data removed]"
          },
          "metadata": {}
        }
      ]
    },
    {
      "cell_type": "code",
      "source": [
        "emb = C[Xtr] # (32, 3, 2)\n",
        "h = torch.tanh(emb.view(-1, 30) @ W1 + b1) # (32, 100)\n",
        "logits = h @ W2 + b2 # (32, 27)\n",
        "loss = F.cross_entropy(logits, Ytr)\n",
        "loss"
      ],
      "metadata": {
        "colab": {
          "base_uri": "https://localhost:8080/"
        },
        "id": "7T5rRO2UoiNB",
        "outputId": "665402d7-b9a2-4ee8-ca06-c5115439dc05"
      },
      "execution_count": 323,
      "outputs": [
        {
          "output_type": "execute_result",
          "data": {
            "text/plain": [
              "tensor(1.4625, grad_fn=<NllLossBackward0>)"
            ]
          },
          "metadata": {},
          "execution_count": 323
        }
      ]
    },
    {
      "cell_type": "code",
      "source": [
        "emb = C[Xdev] # (32, 3, 2)\n",
        "h = torch.tanh(emb.view(-1, 30) @ W1 + b1) # (32, 100)\n",
        "logits = h @ W2 + b2 # (32, 27)\n",
        "loss = F.cross_entropy(logits, Ydev)\n",
        "loss"
      ],
      "metadata": {
        "colab": {
          "base_uri": "https://localhost:8080/"
        },
        "id": "CCw3JnlHomRp",
        "outputId": "10a3ac5a-d07f-4bcd-8695-3db256193e34"
      },
      "execution_count": 324,
      "outputs": [
        {
          "output_type": "execute_result",
          "data": {
            "text/plain": [
              "tensor(2.9851, grad_fn=<NllLossBackward0>)"
            ]
          },
          "metadata": {},
          "execution_count": 324
        }
      ]
    },
    {
      "cell_type": "code",
      "source": [
        "# visualize dimensions 0 and 1 of the embedding matrix C for all characters\n",
        "plt.figure(figsize=(8,8))\n",
        "plt.scatter(C[:,0].data, C[:,1].data, s=200)\n",
        "for i in range(C.shape[0]):\n",
        "    plt.text(C[i,0].item(), C[i,1].item(), itos[i], ha=\"center\", va=\"center\", color='white')\n",
        "plt.grid('minor')"
      ],
      "metadata": {
        "colab": {
          "base_uri": "https://localhost:8080/",
          "height": 677
        },
        "id": "wvZaF9JWordT",
        "outputId": "3d6194be-21f4-4cd4-ffd6-fb7c65563e45"
      },
      "execution_count": 325,
      "outputs": [
        {
          "output_type": "display_data",
          "data": {
            "text/plain": [
              "<Figure size 800x800 with 1 Axes>"
            ],
            "image/png": "[encoded data removed]"
          },
          "metadata": {}
        }
      ]
    },
    {
      "cell_type": "code",
      "source": [
        "context = [0] * block_size\n",
        "C[torch.tensor([context])].shape"
      ],
      "metadata": {
        "colab": {
          "base_uri": "https://localhost:8080/"
        },
        "id": "VraN3EuooyJ1",
        "outputId": "61e34171-ffdd-441e-c671-dd167ccb36c3"
      },
      "execution_count": 326,
      "outputs": [
        {
          "output_type": "execute_result",
          "data": {
            "text/plain": [
              "torch.Size([1, 3, 10])"
            ]
          },
          "metadata": {},
          "execution_count": 326
        }
      ]
    },
    {
      "cell_type": "code",
      "source": [
        "# sample from the model\n",
        "g = torch.Generator().manual_seed(2147483647 + 10)\n",
        "\n",
        "for _ in range(20):\n",
        "\n",
        "    out = []\n",
        "    context = [0] * block_size # initialize with all ...\n",
        "    while True:\n",
        "      emb = C[torch.tensor([context])] # (1,block_size,d)\n",
        "      h = torch.tanh(emb.view(1, -1) @ W1 + b1)\n",
        "      logits = h @ W2 + b2\n",
        "      probs = F.softmax(logits, dim=1)\n",
        "      ix = torch.multinomial(probs, num_samples=1, generator=g).item()\n",
        "      context = context[1:] + [ix]\n",
        "      out.append(ix)\n",
        "      if ix == 0:\n",
        "        break\n",
        "\n",
        "    print(''.join(itos[i] for i in out))"
      ],
      "metadata": {
        "colab": {
          "base_uri": "https://localhost:8080/"
        },
        "id": "ts_10rvq2D7W",
        "outputId": "6c36855a-649a-42ad-8924-4dc528d912fa"
      },
      "execution_count": 327,
      "outputs": [
        {
          "output_type": "stream",
          "name": "stdout",
          "text": [
            "canillamedillas.\n",
            "mondalcazchena.\n",
            "che.\n",
            "man.\n",
            "guas.\n",
            "bena.\n",
            "gualoracejo.\n",
            "canillos guada.\n",
            "alfarco.\n",
            "martos.\n",
            "albunotlla.\n",
            "humion.\n",
            "huno.\n",
            "santertos.\n",
            "sabuc.\n",
            "huelmache.\n",
            "la real.\n",
            "ayarco.\n",
            "albuno.\n",
            "guadiz.\n"
          ]
        }
      ]
    },
    {
      "cell_type": "code",
      "source": [],
      "metadata": {
        "id": "tyY9rDw92M8n"
      },
      "execution_count": null,
      "outputs": []
    }
  ]
}